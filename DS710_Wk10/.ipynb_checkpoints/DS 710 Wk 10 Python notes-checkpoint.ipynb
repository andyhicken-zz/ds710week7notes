{
 "cells": [
  {
   "cell_type": "code",
   "execution_count": null,
   "metadata": {},
   "outputs": [],
   "source": [
    "# example of using caching to avoid recomputing repeatedly\n",
    "\n",
    "def foo (ell, jay): \n",
    "    r = []\n",
    "    for j in jay:\n",
    "        a = foo(ell) # repeatedly computing the same thing\n",
    "        b = discombobulate(a, j)\n",
    "        r.append(b)\n",
    "        \n",
    "def foo (ell, jay): \n",
    "    r = []\n",
    "    a = foo(ell) # compute it once\n",
    "    for j in jay:\n",
    "        b = discombobulate(a, j)\n",
    "        r.append(b)\n"
   ]
  }
 ],
 "metadata": {
  "kernelspec": {
   "display_name": "Python 3",
   "language": "python",
   "name": "python3"
  },
  "language_info": {
   "codemirror_mode": {
    "name": "ipython",
    "version": 3
   },
   "file_extension": ".py",
   "mimetype": "text/x-python",
   "name": "python",
   "nbconvert_exporter": "python",
   "pygments_lexer": "ipython3",
   "version": "3.6.5"
  }
 },
 "nbformat": 4,
 "nbformat_minor": 2
}

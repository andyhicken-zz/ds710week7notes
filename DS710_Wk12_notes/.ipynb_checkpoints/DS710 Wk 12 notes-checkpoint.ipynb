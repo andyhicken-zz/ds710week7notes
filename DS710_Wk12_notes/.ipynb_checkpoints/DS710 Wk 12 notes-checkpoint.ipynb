{
 "cells": [
  {
   "cell_type": "code",
   "execution_count": 8,
   "metadata": {},
   "outputs": [
    {
     "ename": "AttributeError",
     "evalue": "'Robot' object has no attribute 'name'",
     "output_type": "error",
     "traceback": [
      "\u001b[1;31m---------------------------------------------------------------------------\u001b[0m",
      "\u001b[1;31mAttributeError\u001b[0m                            Traceback (most recent call last)",
      "\u001b[1;32m<ipython-input-8-11b4b56befaf>\u001b[0m in \u001b[0;36m<module>\u001b[1;34m()\u001b[0m\n\u001b[0;32m     14\u001b[0m \u001b[0mx\u001b[0m\u001b[1;33m.\u001b[0m\u001b[0mbuild_year\u001b[0m \u001b[1;33m=\u001b[0m \u001b[1;36m1979\u001b[0m\u001b[1;33m\u001b[0m\u001b[0m\n\u001b[0;32m     15\u001b[0m \u001b[1;33m\u001b[0m\u001b[0m\n\u001b[1;32m---> 16\u001b[1;33m \u001b[0my\u001b[0m\u001b[1;33m.\u001b[0m\u001b[0mname\u001b[0m \u001b[1;31m# throws an error \"'Robot' object has no attribute 'name'\":\u001b[0m\u001b[1;33m\u001b[0m\u001b[0m\n\u001b[0m\u001b[0;32m     17\u001b[0m \u001b[1;31m# apparently adding the attributes to an instance does not add them to the class. (Inheritance.)\u001b[0m\u001b[1;33m\u001b[0m\u001b[1;33m\u001b[0m\u001b[0m\n\u001b[0;32m     18\u001b[0m \u001b[1;33m\u001b[0m\u001b[0m\n",
      "\u001b[1;31mAttributeError\u001b[0m: 'Robot' object has no attribute 'name'"
     ]
    }
   ],
   "source": [
    "# notes from https://www.python-course.eu/python3_object_oriented_programming.php\n",
    "\n",
    "class Robot:\n",
    "    pass\n",
    "\n",
    "if __name__ == \"__main__\":\n",
    "    x = Robot()\n",
    "    y = Robot()\n",
    "    y2 = y\n",
    "    \n",
    "# dynamically create arbitrary new attributes for instances of a class\n",
    "\n",
    "x.name = \"Marvin\"\n",
    "x.build_year = 1979\n",
    "\n",
    "y.name # throws an error \"'Robot' object has no attribute 'name'\": \n",
    "# apparently adding the attributes to an instance does not add them to the class. (Inheritance.)\n",
    "\n",
    "\n"
   ]
  },
  {
   "cell_type": "code",
   "execution_count": 11,
   "metadata": {},
   "outputs": [
    {
     "data": {
      "text/plain": [
       "200"
      ]
     },
     "execution_count": 11,
     "metadata": {},
     "output_type": "execute_result"
    }
   ],
   "source": [
    "# you can use getattr to prevent this exception - the default value that is returned if the attribute\n",
    "# is undefined is returned. \n",
    "getattr(y, 'name', 200)"
   ]
  },
  {
   "cell_type": "code",
   "execution_count": 12,
   "metadata": {},
   "outputs": [
    {
     "data": {
      "text/plain": [
       "{'name': 'Marvin', 'build_year': 1979}"
      ]
     },
     "execution_count": 12,
     "metadata": {},
     "output_type": "execute_result"
    }
   ],
   "source": [
    "# internally, there are dicts holding the attributes:\n",
    "\n",
    "x.__dict__\n"
   ]
  },
  {
   "cell_type": "code",
   "execution_count": 14,
   "metadata": {},
   "outputs": [
    {
     "data": {
      "text/plain": [
       "43"
      ]
     },
     "execution_count": 14,
     "metadata": {},
     "output_type": "execute_result"
    }
   ],
   "source": [
    "# you can even give a function an attribute:\n",
    "\n",
    "def f(x):\n",
    "    return 42\n",
    "\n",
    "f.x = 43\n",
    "\n",
    "f.x\n",
    "# which is kind of intentionally abstruse. "
   ]
  },
  {
   "cell_type": "code",
   "execution_count": 18,
   "metadata": {},
   "outputs": [
    {
     "name": "stdout",
     "output_type": "stream",
     "text": [
      "Hi, I am  Marvin !\n",
      "Hi, I am  Marvin !\n"
     ]
    }
   ],
   "source": [
    "# binding a function to an attribute...which you shouldn't do (the function should be defined inside the class)  :\n",
    "\n",
    "def hi(obj):\n",
    "    print(\"Hi, I am \", obj.name, \"!\")\n",
    "    \n",
    "class Robot:\n",
    "    say_hi = hi\n",
    "    \n",
    "x = Robot()\n",
    "x.name = \"Marvin\"\n",
    "Robot.say_hi(x)\n",
    "\n",
    "x.say_hi()"
   ]
  },
  {
   "cell_type": "code",
   "execution_count": 21,
   "metadata": {},
   "outputs": [
    {
     "name": "stdout",
     "output_type": "stream",
     "text": [
      "Hi! I'm a robot without a name.\n"
     ]
    }
   ],
   "source": [
    "# any class should have an __init__ function\n",
    "class Robot:\n",
    "    def __init__(self, name = None):\n",
    "        self.name = name\n",
    "        \n",
    "    def say_hi(self):\n",
    "        if self.name: \n",
    "            print(\"Hi! I'm \", self.name)\n",
    "        else:\n",
    "            print(\"Hi! I'm a robot without a name.\")\n",
    "        \n",
    "y = Robot()\n",
    "y.say_hi()"
   ]
  },
  {
   "cell_type": "markdown",
   "metadata": {},
   "source": [
    "Data abstraction = data encapsulation + data hiding.\n",
    "\n",
    "Data encapsulation means, in my own words, making it unnecessary for the developer to grog some of the underlying complexity. The lecture defines it as \"the bundling of data with the methods that operate on that data.\" Data hiding means making it difficult to mess with the underlying works to protect the integrity of the overall application or whatever project. Data abstraction is these two concepts put together. \n",
    "\n",
    "\"Getter\" methods: get values of the object\n",
    "\"Setter\" methods: set values of the object"
   ]
  },
  {
   "cell_type": "code",
   "execution_count": 26,
   "metadata": {},
   "outputs": [
    {
     "name": "stdout",
     "output_type": "stream",
     "text": [
      "Hi! I'm a robot without a name.\n"
     ]
    }
   ],
   "source": [
    "# any class should have an __init__ function\n",
    "class Robot:\n",
    "    def __init__(self, name = None):\n",
    "        self.name = name\n",
    "        \n",
    "    def say_hi(self):\n",
    "        if self.name: \n",
    "            print(\"Hi! I'm \", self.name)\n",
    "        else:\n",
    "            print(\"Hi! I'm a robot without a name.\")\n",
    "            \n",
    "    def set_name(self, name):\n",
    "        self.name = name\n",
    "        \n",
    "    def get_name(self):\n",
    "        return self.name\n",
    "        \n",
    "y = Robot()\n",
    "y.say_hi()"
   ]
  },
  {
   "cell_type": "code",
   "execution_count": 35,
   "metadata": {},
   "outputs": [
    {
     "name": "stdout",
     "output_type": "stream",
     "text": [
      "Name: Marvin, Build year: 1976\n"
     ]
    }
   ],
   "source": [
    "# __str__ and __repr__ are magic methods \n",
    "# __str_ specifies what happens when you call print() or str().\n",
    "# __repr_ specifies what happens when you call repr() or directly output the value. \n",
    "# helpfully, __repr__ stands in for __str__ with print() and str() if __str__ isn't around. \n",
    "\n",
    "# but lo the theory. __repr__ should produce a string that Python can parse.\n",
    "# in other words, if you call eval() on the string, you should get the object:\n",
    "# o == eval(repr(o))\n",
    "\n",
    "class Robot:\n",
    "    def __init__(self, name, build_year):\n",
    "        self.name = name\n",
    "        self.build_year = build_year\n",
    "\n",
    "    \n",
    "    # here now is a properly constructed __repr_ method\n",
    "    def __repr__(self):\n",
    "        return \"Robot('\" + self.name + \"', \" + str(self.build_year) + \")\"\n",
    "    \n",
    "    # and __str__ is more about human readability\n",
    "    def __str__(self):\n",
    "        return \"Name: \" + self.name + \", Build year: \" + str(self.build_year)\n",
    "    \n",
    "x = Robot(\"Marvin\", 1976)\n",
    "\n",
    "print(x)\n",
    "\n",
    "\n"
   ]
  },
  {
   "cell_type": "code",
   "execution_count": 36,
   "metadata": {},
   "outputs": [],
   "source": [
    "# you can create private attributes. There are two levels: _ (private) and __ (super-duper private)\n",
    "class Sample:\n",
    "    def __init__(self, name, build_year):\n",
    "        self.__priv = \"I am private\" # can't be accessed outside of right here.\n",
    "        self._prot = \"I am protected\" # can be read; can be used in a sub-class.\n",
    "        self.pub = \"I am public\" # whatevs\n",
    "\n",
    "\n",
    "\n"
   ]
  },
  {
   "cell_type": "code",
   "execution_count": 37,
   "metadata": {},
   "outputs": [
    {
     "name": "stdout",
     "output_type": "stream",
     "text": [
      "Hi! I'm a robot without a name.\n"
     ]
    }
   ],
   "source": [
    "# so now maybe you would want to do this:\n",
    "class Robot:\n",
    "    def __init__(self, name = None):\n",
    "        self.__name = name\n",
    "        \n",
    "    def say_hi(self):\n",
    "        if self.__name: \n",
    "            print(\"Hi! I'm \", self.name)\n",
    "        else:\n",
    "            print(\"Hi! I'm a robot without a name.\")\n",
    "            \n",
    "    def set_name(self, name):\n",
    "        self.__name = name\n",
    "        \n",
    "    def get_name(self):\n",
    "        return self.__name\n",
    "    \n",
    "    # also, here's a delete method. \n",
    "    def __del__(self):\n",
    "        print(\"robot has been deleted.\")\n",
    "        \n",
    "y = Robot()\n",
    "y.say_hi()"
   ]
  }
 ],
 "metadata": {
  "kernelspec": {
   "display_name": "Python 3",
   "language": "python",
   "name": "python3"
  },
  "language_info": {
   "codemirror_mode": {
    "name": "ipython",
    "version": 3
   },
   "file_extension": ".py",
   "mimetype": "text/x-python",
   "name": "python",
   "nbconvert_exporter": "python",
   "pygments_lexer": "ipython3",
   "version": "3.6.5"
  }
 },
 "nbformat": 4,
 "nbformat_minor": 2
}
